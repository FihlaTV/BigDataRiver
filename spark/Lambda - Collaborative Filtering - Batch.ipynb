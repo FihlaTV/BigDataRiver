{
 "cells": [
  {
   "cell_type": "code",
   "execution_count": null,
   "metadata": {
    "collapsed": true
   },
   "outputs": [],
   "source": [
    "import os\n",
    "os.environ['PYSPARK_SUBMIT_ARGS'] = '--conf spark.cassandra.connection.host=cassandra --packages com.datastax.spark:spark-cassandra-connector_2.11:2.0.2 pyspark-shell'"
   ]
  },
  {
   "cell_type": "code",
   "execution_count": null,
   "metadata": {
    "collapsed": true
   },
   "outputs": [],
   "source": [
    "from pyspark import SparkContext\n",
    "from pyspark.sql import SQLContext\n",
    "from pyspark.sql import functions as F\n",
    "from pyspark.sql.types import *\n",
    "from pyspark.mllib.recommendation import ALS, MatrixFactorizationModel, Rating"
   ]
  },
  {
   "cell_type": "code",
   "execution_count": null,
   "metadata": {
    "collapsed": true
   },
   "outputs": [],
   "source": [
    "sc = SparkContext(appName=\"BigDataRiver\")\n",
    "sc.setLogLevel(\"WARN\")\n",
    "sc.setCheckpointDir('checkpoint/')\n",
    "sql = SQLContext(sc)"
   ]
  },
  {
   "cell_type": "code",
   "execution_count": null,
   "metadata": {
    "collapsed": true
   },
   "outputs": [],
   "source": [
    "def buildCFModel(train):\n",
    "\n",
    "    def isProductToRating(productCount, clickCount):\n",
    "        return (productCount * 3.0) + clickCount\n",
    "    \n",
    "    ratings = train.rdd.map(lambda r: Rating(r.user_id, r.product, isProductToRating(r.purchased_count, r.clicked_count)))\n",
    "    rank = 10\n",
    "    numIterations = 20\n",
    "    lambdaFactor = 0.01\n",
    "    alpha = 0.01\n",
    "    seed = 42\n",
    "    return ALS.trainImplicit(ratings, rank, numIterations, alpha, seed=seed)"
   ]
  },
  {
   "cell_type": "code",
   "execution_count": null,
   "metadata": {},
   "outputs": [],
   "source": [
    "usersInterests = sql.read.format(\"org.apache.spark.sql.cassandra\").options(table=\"users_interests\", keyspace=\"bdr\").load().cache()\n",
    "usersInterests.show()"
   ]
  },
  {
   "cell_type": "code",
   "execution_count": null,
   "metadata": {
    "collapsed": true
   },
   "outputs": [],
   "source": [
    "dfModel = buildCFModel(usersInterests.select(\"user_id\",\"product\",\"clicked_count\",\"purchased_count\"))"
   ]
  },
  {
   "cell_type": "code",
   "execution_count": null,
   "metadata": {},
   "outputs": [],
   "source": [
    "numberOfRecommendationsRequired = 5\n",
    "rdd = dfModel.recommendProductsForUsers(numberOfRecommendationsRequired)\n",
    "#: RDD[(Int, Array[Rating])]\n",
    "print rdd.take(10)"
   ]
  },
  {
   "cell_type": "code",
   "execution_count": null,
   "metadata": {},
   "outputs": [],
   "source": [
    "recommendations = rdd.map(lambda (user,ratings): (user, map(lambda r: r.product, ratings)))\n",
    "print recommendations.collect()"
   ]
  },
  {
   "cell_type": "code",
   "execution_count": null,
   "metadata": {},
   "outputs": [],
   "source": [
    "schema = StructType([\n",
    "    StructField(\"user_id\", IntegerType(), False),\n",
    "    StructField(\"recommended_products\", ArrayType(IntegerType()), False)\n",
    "])"
   ]
  },
  {
   "cell_type": "code",
   "execution_count": null,
   "metadata": {},
   "outputs": [],
   "source": [
    "top5 = sql.createDataFrame(recommendations, schema)\n",
    "top5.show()\n",
    "top5.write.format(\"org.apache.spark.sql.cassandra\").mode('append').options(table=\"cf\", keyspace=\"bdr\").save()"
   ]
  },
  {
   "cell_type": "code",
   "execution_count": null,
   "metadata": {},
   "outputs": [],
   "source": [
    "dfModel.recommendProducts(2105,5)"
   ]
  },
  {
   "cell_type": "markdown",
   "metadata": {
    "collapsed": true
   },
   "source": [
    "## Also calculate the most popular per generic and specific category"
   ]
  },
  {
   "cell_type": "code",
   "execution_count": null,
   "metadata": {
    "collapsed": true
   },
   "outputs": [],
   "source": [
    "purchasedOnly = usersInterests.select(\"product\",\"generic_cat\",\"specific_cat\",\"purchased_count\").where(\"purchased_count > 0\").cache()"
   ]
  },
  {
   "cell_type": "code",
   "execution_count": null,
   "metadata": {
    "scrolled": true
   },
   "outputs": [],
   "source": [
    "generic = purchasedOnly.select(\"generic_cat\",\"product\",\"purchased_count\").groupBy(\"generic_cat\",\"product\").sum(\"purchased_count\").toDF(\"generic_cat\",\"product\",\"count\")\n",
    "specific = purchasedOnly.select(\"specific_cat\",\"product\",\"purchased_count\").groupBy(\"specific_cat\",\"product\").sum(\"purchased_count\").toDF(\"specific_cat\",\"product\",\"count\")\n",
    "generic.registerTempTable(\"generic\")\n",
    "specific.registerTempTable(\"specific\")\n",
    "specific.show()"
   ]
  },
  {
   "cell_type": "code",
   "execution_count": null,
   "metadata": {},
   "outputs": [],
   "source": [
    "top5generic = sql.sql(\"\"\"\n",
    "    SELECT\n",
    "        *,\n",
    "        ROW_NUMBER() OVER(PARTITION BY generic_cat ORDER BY count DESC) rn\n",
    "    FROM generic\n",
    "\"\"\").where(\"rn <= 5\").groupBy(\"generic_cat\").agg(F.collect_list(\"product\").alias(\"top_products\"))\n",
    "top5generic.show()\n",
    "top5generic.write.format(\"org.apache.spark.sql.cassandra\").mode('append').options(table=\"top_generic\", keyspace=\"bdr\").save()\n"
   ]
  },
  {
   "cell_type": "code",
   "execution_count": null,
   "metadata": {},
   "outputs": [],
   "source": [
    "top5specific = sql.sql(\"\"\"\n",
    "    SELECT\n",
    "        *,\n",
    "        ROW_NUMBER() OVER(PARTITION BY specific_cat ORDER BY count DESC) rn\n",
    "    FROM specific\n",
    "\"\"\").where(\"rn <= 5\").groupBy(\"specific_cat\").agg(F.collect_list(\"product\").alias(\"top_products\"))\n",
    "top5specific.show(300)\n",
    "top5specific.write.format(\"org.apache.spark.sql.cassandra\").mode('append').options(table=\"top_specific\", keyspace=\"bdr\").save()"
   ]
  },
  {
   "cell_type": "code",
   "execution_count": null,
   "metadata": {
    "collapsed": true
   },
   "outputs": [],
   "source": []
  },
  {
   "cell_type": "code",
   "execution_count": null,
   "metadata": {
    "collapsed": true
   },
   "outputs": [],
   "source": []
  }
 ],
 "metadata": {
  "kernelspec": {
   "display_name": "Python 2",
   "language": "python",
   "name": "python2"
  },
  "language_info": {
   "codemirror_mode": {
    "name": "ipython",
    "version": 2
   },
   "file_extension": ".py",
   "mimetype": "text/x-python",
   "name": "python",
   "nbconvert_exporter": "python",
   "pygments_lexer": "ipython2",
   "version": "2.7.13"
  }
 },
 "nbformat": 4,
 "nbformat_minor": 2
}
